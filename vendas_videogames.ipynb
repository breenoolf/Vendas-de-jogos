{
  "nbformat": 4,
  "nbformat_minor": 0,
  "metadata": {
    "colab": {
      "provenance": []
    },
    "kernelspec": {
      "name": "python3",
      "display_name": "Python 3"
    },
    "language_info": {
      "name": "python"
    }
  },
  "cells": [
    {
      "cell_type": "markdown",
      "source": [
        "#Importando da biblioteca Pandas para manipulação de dados"
      ],
      "metadata": {
        "id": "0R45UmEeAh2P"
      }
    },
    {
      "cell_type": "code",
      "execution_count": null,
      "metadata": {
        "id": "LCKZU8CjLkme"
      },
      "outputs": [],
      "source": [
        "import pandas as pd"
      ]
    },
    {
      "cell_type": "markdown",
      "source": [
        "#Lendo o arquivo e salvando o DataFrame em uma variável"
      ],
      "metadata": {
        "id": "FHDm2c4lAp0D"
      }
    },
    {
      "cell_type": "code",
      "source": [
        "df = pd.read_csv('/content/vgchartz-2024.csv', sep=';')"
      ],
      "metadata": {
        "id": "ZPqNwrVwLvtE"
      },
      "execution_count": null,
      "outputs": []
    },
    {
      "cell_type": "markdown",
      "source": [
        "#Verificando a existência e tratando valores nulos nas colunas de \"Data de lançamento\" e \"Desenvolvedora\""
      ],
      "metadata": {
        "id": "DHALAxDAAwU0"
      }
    },
    {
      "cell_type": "markdown",
      "source": [
        "Soma da quantidade de valores nulos em cada coluna"
      ],
      "metadata": {
        "id": "OVQVtdP9BDFo"
      }
    },
    {
      "cell_type": "code",
      "source": [
        "df.isnull().sum()"
      ],
      "metadata": {
        "id": "mlMb7Sf3L6Nb",
        "colab": {
          "base_uri": "https://localhost:8080/",
          "height": 523
        },
        "outputId": "fb23eac5-c228-4b64-abca-6c3693db7b09"
      },
      "execution_count": null,
      "outputs": [
        {
          "output_type": "execute_result",
          "data": {
            "text/plain": [
              "img                 0\n",
              "title               0\n",
              "console             0\n",
              "genre               0\n",
              "publisher           0\n",
              "developer          17\n",
              "critic_score    57338\n",
              "total_sales     45094\n",
              "na_sales        51379\n",
              "jp_sales        57290\n",
              "pal_sales       51192\n",
              "other_sales     48888\n",
              "release_date     7051\n",
              "last_update     46137\n",
              "dtype: int64"
            ],
            "text/html": [
              "<div>\n",
              "<style scoped>\n",
              "    .dataframe tbody tr th:only-of-type {\n",
              "        vertical-align: middle;\n",
              "    }\n",
              "\n",
              "    .dataframe tbody tr th {\n",
              "        vertical-align: top;\n",
              "    }\n",
              "\n",
              "    .dataframe thead th {\n",
              "        text-align: right;\n",
              "    }\n",
              "</style>\n",
              "<table border=\"1\" class=\"dataframe\">\n",
              "  <thead>\n",
              "    <tr style=\"text-align: right;\">\n",
              "      <th></th>\n",
              "      <th>0</th>\n",
              "    </tr>\n",
              "  </thead>\n",
              "  <tbody>\n",
              "    <tr>\n",
              "      <th>img</th>\n",
              "      <td>0</td>\n",
              "    </tr>\n",
              "    <tr>\n",
              "      <th>title</th>\n",
              "      <td>0</td>\n",
              "    </tr>\n",
              "    <tr>\n",
              "      <th>console</th>\n",
              "      <td>0</td>\n",
              "    </tr>\n",
              "    <tr>\n",
              "      <th>genre</th>\n",
              "      <td>0</td>\n",
              "    </tr>\n",
              "    <tr>\n",
              "      <th>publisher</th>\n",
              "      <td>0</td>\n",
              "    </tr>\n",
              "    <tr>\n",
              "      <th>developer</th>\n",
              "      <td>17</td>\n",
              "    </tr>\n",
              "    <tr>\n",
              "      <th>critic_score</th>\n",
              "      <td>57338</td>\n",
              "    </tr>\n",
              "    <tr>\n",
              "      <th>total_sales</th>\n",
              "      <td>45094</td>\n",
              "    </tr>\n",
              "    <tr>\n",
              "      <th>na_sales</th>\n",
              "      <td>51379</td>\n",
              "    </tr>\n",
              "    <tr>\n",
              "      <th>jp_sales</th>\n",
              "      <td>57290</td>\n",
              "    </tr>\n",
              "    <tr>\n",
              "      <th>pal_sales</th>\n",
              "      <td>51192</td>\n",
              "    </tr>\n",
              "    <tr>\n",
              "      <th>other_sales</th>\n",
              "      <td>48888</td>\n",
              "    </tr>\n",
              "    <tr>\n",
              "      <th>release_date</th>\n",
              "      <td>7051</td>\n",
              "    </tr>\n",
              "    <tr>\n",
              "      <th>last_update</th>\n",
              "      <td>46137</td>\n",
              "    </tr>\n",
              "  </tbody>\n",
              "</table>\n",
              "</div><br><label><b>dtype:</b> int64</label>"
            ]
          },
          "metadata": {},
          "execution_count": 32
        }
      ]
    },
    {
      "cell_type": "markdown",
      "source": [
        "Remoção de valores nulos nas colunas \"release_date\" e \"developer\""
      ],
      "metadata": {
        "id": "2U8n5G_oBHaw"
      }
    },
    {
      "cell_type": "code",
      "source": [
        "df_limpo = df.dropna(subset=['release_date', 'developer'])"
      ],
      "metadata": {
        "id": "Z6sJArFuMAr0"
      },
      "execution_count": null,
      "outputs": []
    },
    {
      "cell_type": "markdown",
      "source": [
        "Comparação dos dois DataFrames"
      ],
      "metadata": {
        "id": "LLOUjw0LBOhI"
      }
    },
    {
      "cell_type": "code",
      "source": [
        "print(\"DataFrame original: \", df.shape)\n",
        "print(\"Novo DataFrame após a limpeza: \", df_limpo.shape)"
      ],
      "metadata": {
        "colab": {
          "base_uri": "https://localhost:8080/"
        },
        "id": "iSWOrCVKP5mV",
        "outputId": "85d69fc9-6779-4b36-f198-1303108981f3"
      },
      "execution_count": null,
      "outputs": [
        {
          "output_type": "stream",
          "name": "stdout",
          "text": [
            "Original Shape: (64016, 14)\n",
            "New Shape after dropping N/A: (56954, 14)\n"
          ]
        }
      ]
    },
    {
      "cell_type": "markdown",
      "source": [
        "#Tratamento de valores nulos nas colunas de vendas\n",
        "\n"
      ],
      "metadata": {
        "id": "m7GLK5L6BSbW"
      }
    },
    {
      "cell_type": "markdown",
      "source": [
        "Criação de uma lista com as colunas de vendas"
      ],
      "metadata": {
        "id": "09Ta3PoZBkKD"
      }
    },
    {
      "cell_type": "code",
      "source": [
        "colunas_vendas = ['total_sales', 'na_sales', 'jp_sales', 'pal_sales', 'other_sales']"
      ],
      "metadata": {
        "id": "HOCsIUIQBiR6"
      },
      "execution_count": null,
      "outputs": []
    },
    {
      "cell_type": "markdown",
      "source": [
        "Substituição de valores NaN por 0"
      ],
      "metadata": {
        "id": "Gct8edhNBXTW"
      }
    },
    {
      "cell_type": "code",
      "source": [
        "df_limpo[colunas_vendas] = df_limpo[colunas_vendas].fillna(0)"
      ],
      "metadata": {
        "colab": {
          "base_uri": "https://localhost:8080/"
        },
        "id": "_3auTqcBP6MD",
        "outputId": "5a73cf0f-790a-4647-bf4a-c516e0e852a1"
      },
      "execution_count": null,
      "outputs": [
        {
          "output_type": "stream",
          "name": "stderr",
          "text": [
            "<ipython-input-36-900bae12dec6>:4: SettingWithCopyWarning: \n",
            "A value is trying to be set on a copy of a slice from a DataFrame.\n",
            "Try using .loc[row_indexer,col_indexer] = value instead\n",
            "\n",
            "See the caveats in the documentation: https://pandas.pydata.org/pandas-docs/stable/user_guide/indexing.html#returning-a-view-versus-a-copy\n",
            "  df_limpo[colunas_vendas] = df_limpo[colunas_vendas].fillna(0)\n"
          ]
        }
      ]
    },
    {
      "cell_type": "markdown",
      "source": [
        "#Tratamento de valores nulos na coluna \"Última atualização\""
      ],
      "metadata": {
        "id": "yiNgJbiOBqeU"
      }
    },
    {
      "cell_type": "markdown",
      "source": [
        "Substitui valores NaN na coluna de atualizações pela data de lançamento do jogo"
      ],
      "metadata": {
        "id": "Q8_3ODOyBuuf"
      }
    },
    {
      "cell_type": "code",
      "source": [
        "df_limpo['last_update'] = df_limpo['last_update'].fillna(df_limpo['release_date'])"
      ],
      "metadata": {
        "colab": {
          "base_uri": "https://localhost:8080/"
        },
        "id": "vTfSbhgjRBta",
        "outputId": "33996641-707c-4323-e6c0-e9176ffa2a43"
      },
      "execution_count": null,
      "outputs": [
        {
          "output_type": "stream",
          "name": "stderr",
          "text": [
            "<ipython-input-37-5f6d3dd2f0fa>:3: SettingWithCopyWarning: \n",
            "A value is trying to be set on a copy of a slice from a DataFrame.\n",
            "Try using .loc[row_indexer,col_indexer] = value instead\n",
            "\n",
            "See the caveats in the documentation: https://pandas.pydata.org/pandas-docs/stable/user_guide/indexing.html#returning-a-view-versus-a-copy\n",
            "  df_limpo['last_update'] = df_limpo['last_update'].fillna(df_limpo['release_date'])\n"
          ]
        }
      ]
    },
    {
      "cell_type": "markdown",
      "source": [
        "#Tratamento de valores nulos na coluna \"Nota do jogo\""
      ],
      "metadata": {
        "id": "MiDT_iphB2Hw"
      }
    },
    {
      "cell_type": "markdown",
      "source": [
        "Jogos sem nota são substituidos por 0"
      ],
      "metadata": {
        "id": "WdJphrRfB78P"
      }
    },
    {
      "cell_type": "code",
      "source": [
        "df_limpo['critic_score'] = df_limpo['critic_score'].fillna(0)"
      ],
      "metadata": {
        "colab": {
          "base_uri": "https://localhost:8080/"
        },
        "id": "UOMEUm1eRiDq",
        "outputId": "b8755d8a-0d2d-409e-b906-97231f8d64f0"
      },
      "execution_count": null,
      "outputs": [
        {
          "output_type": "stream",
          "name": "stderr",
          "text": [
            "<ipython-input-45-019e2490d9ce>:2: SettingWithCopyWarning: \n",
            "A value is trying to be set on a copy of a slice from a DataFrame.\n",
            "Try using .loc[row_indexer,col_indexer] = value instead\n",
            "\n",
            "See the caveats in the documentation: https://pandas.pydata.org/pandas-docs/stable/user_guide/indexing.html#returning-a-view-versus-a-copy\n",
            "  df_limpo['critic_score'] = df_limpo['critic_score'].fillna(0)\n"
          ]
        }
      ]
    },
    {
      "cell_type": "markdown",
      "source": [
        "Verificação dos valores"
      ],
      "metadata": {
        "id": "AiwY1YbpCANN"
      }
    },
    {
      "cell_type": "code",
      "source": [
        "df_limpo['critic_score']"
      ],
      "metadata": {
        "colab": {
          "base_uri": "https://localhost:8080/",
          "height": 458
        },
        "id": "IbEDctpBTLHb",
        "outputId": "ca9588e6-8d68-48a7-a51d-2005be8ca63a"
      },
      "execution_count": null,
      "outputs": [
        {
          "output_type": "execute_result",
          "data": {
            "text/plain": [
              "0        9.4\n",
              "1        9.7\n",
              "2        9.6\n",
              "3        0.0\n",
              "4        8.1\n",
              "        ... \n",
              "64010    0.0\n",
              "64011    0.0\n",
              "64012    0.0\n",
              "64013    0.0\n",
              "64014    0.0\n",
              "Name: critic_score, Length: 56954, dtype: float64"
            ],
            "text/html": [
              "<div>\n",
              "<style scoped>\n",
              "    .dataframe tbody tr th:only-of-type {\n",
              "        vertical-align: middle;\n",
              "    }\n",
              "\n",
              "    .dataframe tbody tr th {\n",
              "        vertical-align: top;\n",
              "    }\n",
              "\n",
              "    .dataframe thead th {\n",
              "        text-align: right;\n",
              "    }\n",
              "</style>\n",
              "<table border=\"1\" class=\"dataframe\">\n",
              "  <thead>\n",
              "    <tr style=\"text-align: right;\">\n",
              "      <th></th>\n",
              "      <th>critic_score</th>\n",
              "    </tr>\n",
              "  </thead>\n",
              "  <tbody>\n",
              "    <tr>\n",
              "      <th>0</th>\n",
              "      <td>9.4</td>\n",
              "    </tr>\n",
              "    <tr>\n",
              "      <th>1</th>\n",
              "      <td>9.7</td>\n",
              "    </tr>\n",
              "    <tr>\n",
              "      <th>2</th>\n",
              "      <td>9.6</td>\n",
              "    </tr>\n",
              "    <tr>\n",
              "      <th>3</th>\n",
              "      <td>0.0</td>\n",
              "    </tr>\n",
              "    <tr>\n",
              "      <th>4</th>\n",
              "      <td>8.1</td>\n",
              "    </tr>\n",
              "    <tr>\n",
              "      <th>...</th>\n",
              "      <td>...</td>\n",
              "    </tr>\n",
              "    <tr>\n",
              "      <th>64010</th>\n",
              "      <td>0.0</td>\n",
              "    </tr>\n",
              "    <tr>\n",
              "      <th>64011</th>\n",
              "      <td>0.0</td>\n",
              "    </tr>\n",
              "    <tr>\n",
              "      <th>64012</th>\n",
              "      <td>0.0</td>\n",
              "    </tr>\n",
              "    <tr>\n",
              "      <th>64013</th>\n",
              "      <td>0.0</td>\n",
              "    </tr>\n",
              "    <tr>\n",
              "      <th>64014</th>\n",
              "      <td>0.0</td>\n",
              "    </tr>\n",
              "  </tbody>\n",
              "</table>\n",
              "<p>56954 rows × 1 columns</p>\n",
              "</div><br><label><b>dtype:</b> float64</label>"
            ]
          },
          "metadata": {},
          "execution_count": 46
        }
      ]
    },
    {
      "cell_type": "markdown",
      "source": [
        "#Salvamos a base de dados tratada no formato csv"
      ],
      "metadata": {
        "id": "ZpOWOD3lA6LZ"
      }
    },
    {
      "cell_type": "code",
      "source": [
        "df_limpo.to_csv('vendas2024-vg.csv', sep=';', index=False)"
      ],
      "metadata": {
        "id": "zR4hvxJITNSJ"
      },
      "execution_count": null,
      "outputs": []
    }
  ]
}